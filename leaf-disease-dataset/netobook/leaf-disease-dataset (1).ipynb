{
 "cells": [
  {
   "cell_type": "code",
   "execution_count": 1,
   "metadata": {},
   "outputs": [
    {
     "name": "stdout",
     "output_type": "stream",
     "text": [
      "✅ TensorFlow version: 2.19.0\n",
      "✅ Keras version: 3.10.0\n",
      "✅ NumPy version: 2.1.3\n",
      "⚠️ GPU not detected, running on CPU\n"
     ]
    }
   ],
   "source": [
    "import tensorflow as tf\n",
    "import numpy as np\n",
    "\n",
    "print(\"✅ TensorFlow version:\", tf.__version__)\n",
    "print(\"✅ Keras version:\", tf.keras.__version__)\n",
    "print(\"✅ NumPy version:\", np.__version__)\n",
    "\n",
    "gpus = tf.config.list_physical_devices('GPU')\n",
    "if gpus:\n",
    "    print(\"🚀 GPU is available:\", gpus)\n",
    "else:\n",
    "    print(\"⚠️ GPU not detected, running on CPU\")\n"
   ]
  },
  {
   "cell_type": "code",
   "execution_count": 1,
   "metadata": {
    "execution": {
     "iopub.execute_input": "2025-07-19T16:11:45.850241Z",
     "iopub.status.busy": "2025-07-19T16:11:45.849996Z",
     "iopub.status.idle": "2025-07-19T16:11:46.554795Z",
     "shell.execute_reply": "2025-07-19T16:11:46.554097Z",
     "shell.execute_reply.started": "2025-07-19T16:11:45.850216Z"
    },
    "trusted": true
   },
   "outputs": [],
   "source": [
    "import numpy as np \n",
    "import pandas as pd \n",
    "import os\n",
    "import warnings\n",
    "warnings.filterwarnings(\"ignore\") "
   ]
  },
  {
   "cell_type": "code",
   "execution_count": null,
   "metadata": {},
   "outputs": [
    {
     "name": "stdout",
     "output_type": "stream",
     "text": [
      "2.19.0\n"
     ]
    }
   ],
   "source": [
    "#!pip install tensorflow==2.19.0\n",
    "import tensorflow as tf\n",
    "print(tf.__version__)\n"
   ]
  },
  {
   "cell_type": "code",
   "execution_count": 2,
   "metadata": {
    "execution": {
     "iopub.execute_input": "2025-07-19T16:11:49.605316Z",
     "iopub.status.busy": "2025-07-19T16:11:49.605008Z",
     "iopub.status.idle": "2025-07-19T16:11:49.609165Z",
     "shell.execute_reply": "2025-07-19T16:11:49.608314Z",
     "shell.execute_reply.started": "2025-07-19T16:11:49.605296Z"
    },
    "trusted": true
   },
   "outputs": [],
   "source": [
    "train = \"/kaggle/input/leaf-disease-dataset-combination/image data/train\" \n",
    "test = \"/kaggle/input/leaf-disease-dataset-combination/image data/test\" \n",
    "validation = \"/kaggle/input/leaf-disease-dataset-combination/image data/validation\" "
   ]
  },
  {
   "cell_type": "code",
   "execution_count": null,
   "metadata": {
    "execution": {
     "iopub.execute_input": "2025-07-19T16:11:50.921674Z",
     "iopub.status.busy": "2025-07-19T16:11:50.921394Z",
     "iopub.status.idle": "2025-07-19T16:11:50.925997Z",
     "shell.execute_reply": "2025-07-19T16:11:50.925201Z",
     "shell.execute_reply.started": "2025-07-19T16:11:50.921655Z"
    },
    "trusted": true
   },
   "outputs": [],
   "source": [
    "def count_image(directory) :  \n",
    "    categories = os.listdir(directory)\n",
    "    category_count = {\n",
    "        category : len(os.listdir(os.path.join(directory,category ))) for category in categories\n",
    "    }\n",
    "    return category_count "
   ]
  },
  {
   "cell_type": "code",
   "execution_count": 4,
   "metadata": {
    "execution": {
     "iopub.execute_input": "2025-07-19T16:11:51.788161Z",
     "iopub.status.busy": "2025-07-19T16:11:51.787856Z",
     "iopub.status.idle": "2025-07-19T16:11:51.841045Z",
     "shell.execute_reply": "2025-07-19T16:11:51.840517Z",
     "shell.execute_reply.started": "2025-07-19T16:11:51.788117Z"
    },
    "trusted": true
   },
   "outputs": [
    {
     "name": "stdout",
     "output_type": "stream",
     "text": [
      "the train count : {'orange': 13, 'tomato': 13, 'apple': 13, 'strawberry': 13, 'corn (maize)': 13, 'Cassava': 13, 'cherry (including sour)': 13, 'pepper, bell': 13, 'squash': 13, 'peach': 13, 'grape': 13, 'Rice': 13, 'potato': 13}\n",
      "-----------------------\n",
      "the test count : {'orange': 13, 'tomato': 13, 'apple': 13, 'strawberry': 13, 'corn (maize)': 13, 'Cassava': 13, 'cherry (including sour)': 13, 'pepper, bell': 13, 'squash': 13, 'peach': 13, 'grape': 13, 'Rice': 13, 'potato': 13}\n",
      "-----------------------\n",
      "the validation : {'orange': 13, 'tomato': 13, 'apple': 13, 'strawberry': 13, 'corn (maize)': 13, 'Cassava': 13, 'cherry (including sour)': 13, 'pepper, bell': 13, 'squash': 13, 'peach': 13, 'grape': 13, 'Rice': 13, 'potato': 13}\n"
     ]
    }
   ],
   "source": [
    "train_count = count_image(train) \n",
    "print(f\"the train count : {train_count}\")\n",
    "print(\"-----------------------\")\n",
    "test_count = count_image(test) \n",
    "print(f\"the test count : {test_count}\") \n",
    "print(\"-----------------------\")\n",
    "validation_count = count_image(validation) \n",
    "print(f\"the validation : {validation_count}\") "
   ]
  },
  {
   "cell_type": "code",
   "execution_count": 5,
   "metadata": {
    "execution": {
     "iopub.execute_input": "2025-07-19T16:11:54.145818Z",
     "iopub.status.busy": "2025-07-19T16:11:54.145559Z",
     "iopub.status.idle": "2025-07-19T16:11:54.153468Z",
     "shell.execute_reply": "2025-07-19T16:11:54.152588Z",
     "shell.execute_reply.started": "2025-07-19T16:11:54.145798Z"
    },
    "trusted": true
   },
   "outputs": [],
   "source": [
    "df_train = pd.DataFrame(list(train_count.items()) , columns = [\"vagetable\" , \"train count\"])  \n",
    "df_test = pd.DataFrame(list(test_count.items()) , columns  = [\"vagetable\" , \"test count\"]) \n",
    "df_validation = pd.DataFrame(list(validation_count.items()) , columns = [\"vagetable\" , \"validation count\"])\n"
   ]
  },
  {
   "cell_type": "code",
   "execution_count": 6,
   "metadata": {
    "execution": {
     "iopub.execute_input": "2025-07-19T16:11:56.279508Z",
     "iopub.status.busy": "2025-07-19T16:11:56.279173Z",
     "iopub.status.idle": "2025-07-19T16:11:56.321655Z",
     "shell.execute_reply": "2025-07-19T16:11:56.320896Z",
     "shell.execute_reply.started": "2025-07-19T16:11:56.279483Z"
    },
    "trusted": true
   },
   "outputs": [
    {
     "data": {
      "text/html": [
       "<div>\n",
       "<style scoped>\n",
       "    .dataframe tbody tr th:only-of-type {\n",
       "        vertical-align: middle;\n",
       "    }\n",
       "\n",
       "    .dataframe tbody tr th {\n",
       "        vertical-align: top;\n",
       "    }\n",
       "\n",
       "    .dataframe thead th {\n",
       "        text-align: right;\n",
       "    }\n",
       "</style>\n",
       "<table border=\"1\" class=\"dataframe\">\n",
       "  <thead>\n",
       "    <tr style=\"text-align: right;\">\n",
       "      <th></th>\n",
       "      <th>vagetable</th>\n",
       "      <th>train count</th>\n",
       "      <th>test count</th>\n",
       "      <th>validation count</th>\n",
       "    </tr>\n",
       "  </thead>\n",
       "  <tbody>\n",
       "    <tr>\n",
       "      <th>0</th>\n",
       "      <td>orange</td>\n",
       "      <td>13</td>\n",
       "      <td>13</td>\n",
       "      <td>13</td>\n",
       "    </tr>\n",
       "    <tr>\n",
       "      <th>1</th>\n",
       "      <td>tomato</td>\n",
       "      <td>13</td>\n",
       "      <td>13</td>\n",
       "      <td>13</td>\n",
       "    </tr>\n",
       "    <tr>\n",
       "      <th>2</th>\n",
       "      <td>apple</td>\n",
       "      <td>13</td>\n",
       "      <td>13</td>\n",
       "      <td>13</td>\n",
       "    </tr>\n",
       "    <tr>\n",
       "      <th>3</th>\n",
       "      <td>strawberry</td>\n",
       "      <td>13</td>\n",
       "      <td>13</td>\n",
       "      <td>13</td>\n",
       "    </tr>\n",
       "    <tr>\n",
       "      <th>4</th>\n",
       "      <td>corn (maize)</td>\n",
       "      <td>13</td>\n",
       "      <td>13</td>\n",
       "      <td>13</td>\n",
       "    </tr>\n",
       "    <tr>\n",
       "      <th>5</th>\n",
       "      <td>Cassava</td>\n",
       "      <td>13</td>\n",
       "      <td>13</td>\n",
       "      <td>13</td>\n",
       "    </tr>\n",
       "    <tr>\n",
       "      <th>6</th>\n",
       "      <td>cherry (including sour)</td>\n",
       "      <td>13</td>\n",
       "      <td>13</td>\n",
       "      <td>13</td>\n",
       "    </tr>\n",
       "    <tr>\n",
       "      <th>7</th>\n",
       "      <td>pepper, bell</td>\n",
       "      <td>13</td>\n",
       "      <td>13</td>\n",
       "      <td>13</td>\n",
       "    </tr>\n",
       "    <tr>\n",
       "      <th>8</th>\n",
       "      <td>squash</td>\n",
       "      <td>13</td>\n",
       "      <td>13</td>\n",
       "      <td>13</td>\n",
       "    </tr>\n",
       "    <tr>\n",
       "      <th>9</th>\n",
       "      <td>peach</td>\n",
       "      <td>13</td>\n",
       "      <td>13</td>\n",
       "      <td>13</td>\n",
       "    </tr>\n",
       "    <tr>\n",
       "      <th>10</th>\n",
       "      <td>grape</td>\n",
       "      <td>13</td>\n",
       "      <td>13</td>\n",
       "      <td>13</td>\n",
       "    </tr>\n",
       "    <tr>\n",
       "      <th>11</th>\n",
       "      <td>Rice</td>\n",
       "      <td>13</td>\n",
       "      <td>13</td>\n",
       "      <td>13</td>\n",
       "    </tr>\n",
       "    <tr>\n",
       "      <th>12</th>\n",
       "      <td>potato</td>\n",
       "      <td>13</td>\n",
       "      <td>13</td>\n",
       "      <td>13</td>\n",
       "    </tr>\n",
       "  </tbody>\n",
       "</table>\n",
       "</div>"
      ],
      "text/plain": [
       "                  vagetable  train count  test count  validation count\n",
       "0                    orange           13          13                13\n",
       "1                    tomato           13          13                13\n",
       "2                     apple           13          13                13\n",
       "3                strawberry           13          13                13\n",
       "4              corn (maize)           13          13                13\n",
       "5                   Cassava           13          13                13\n",
       "6   cherry (including sour)           13          13                13\n",
       "7              pepper, bell           13          13                13\n",
       "8                    squash           13          13                13\n",
       "9                     peach           13          13                13\n",
       "10                    grape           13          13                13\n",
       "11                     Rice           13          13                13\n",
       "12                   potato           13          13                13"
      ]
     },
     "execution_count": 6,
     "metadata": {},
     "output_type": "execute_result"
    }
   ],
   "source": [
    "df = pd.merge(df_train ,df_test , on = \"vagetable\")\n",
    "df = pd.merge(df ,df_validation , on =\"vagetable\" )\n",
    "df "
   ]
  },
  {
   "cell_type": "code",
   "execution_count": 7,
   "metadata": {
    "execution": {
     "iopub.execute_input": "2025-07-19T16:11:58.164451Z",
     "iopub.status.busy": "2025-07-19T16:11:58.163653Z",
     "iopub.status.idle": "2025-07-19T16:11:59.437532Z",
     "shell.execute_reply": "2025-07-19T16:11:59.436798Z",
     "shell.execute_reply.started": "2025-07-19T16:11:58.164420Z"
    },
    "trusted": true
   },
   "outputs": [
    {
     "data": {
      "image/png": "[encoded data removed]",
      "text/plain": [
       "<Figure size 1500x1000 with 1 Axes>"
      ]
     },
     "metadata": {},
     "output_type": "display_data"
    }
   ],
   "source": [
    "import matplotlib.pyplot as plt \n",
    "import seaborn as sns \n",
    "\n",
    "\n",
    "\n",
    "df_melted = df.melt(\n",
    "    id_vars=\"vagetable\",\n",
    "    value_vars=['train count', 'test count', 'validation count'],\n",
    "    var_name=\"dataset split\",\n",
    "    value_name=\"image count\"\n",
    ")\n",
    "\n",
    "plt.figure(figsize=(15,10))\n",
    "\n",
    "\n",
    "sns.barplot(data=df_melted, x='vagetable', y='image count', hue='dataset split')\n",
    "\n",
    "\n",
    "plt.xticks(rotation=90, ha='right')  \n",
    "plt.xlabel('Vegetable')\n",
    "plt.ylabel('Image Count')\n",
    "plt.title('Image Count per Vegetable')\n",
    "\n",
    "\n",
    "plt.legend(title='Dataset Split')\n",
    "plt.show()"
   ]
  },
  {
   "cell_type": "code",
   "execution_count": 8,
   "metadata": {
    "execution": {
     "iopub.execute_input": "2025-07-19T16:12:02.224768Z",
     "iopub.status.busy": "2025-07-19T16:12:02.224406Z",
     "iopub.status.idle": "2025-07-19T16:12:33.938943Z",
     "shell.execute_reply": "2025-07-19T16:12:33.938407Z",
     "shell.execute_reply.started": "2025-07-19T16:12:02.224749Z"
    },
    "trusted": true
   },
   "outputs": [
    {
     "name": "stderr",
     "output_type": "stream",
     "text": [
      "2025-07-19 16:12:03.975409: E external/local_xla/xla/stream_executor/cuda/cuda_fft.cc:477] Unable to register cuFFT factory: Attempting to register factory for plugin cuFFT when one has already been registered\n",
      "WARNING: All log messages before absl::InitializeLog() is called are written to STDERR\n",
      "E0000 00:00:1752941524.178929      36 cuda_dnn.cc:8310] Unable to register cuDNN factory: Attempting to register factory for plugin cuDNN when one has already been registered\n",
      "E0000 00:00:1752941524.243436      36 cuda_blas.cc:1418] Unable to register cuBLAS factory: Attempting to register factory for plugin cuBLAS when one has already been registered\n"
     ]
    },
    {
     "name": "stdout",
     "output_type": "stream",
     "text": [
      "Found 30489 images belonging to 13 classes.\n",
      "Found 7615 images belonging to 13 classes.\n"
     ]
    }
   ],
   "source": [
    "from tensorflow.keras.preprocessing.image import ImageDataGenerator\n",
    "\n",
    "\n",
    "train_datagen = ImageDataGenerator(\n",
    "    rescale=1./255,           \n",
    "    rotation_range=20,        \n",
    "    width_shift_range=0.2,    \n",
    "    height_shift_range=0.2,   \n",
    "    shear_range=0.2,          \n",
    "    zoom_range=0.2,           \n",
    "    horizontal_flip=True,     \n",
    "    validation_split=0.2      \n",
    ")\n",
    "\n",
    "\n",
    "val_datagen = ImageDataGenerator(\n",
    "    rescale=1./255,  \n",
    "    validation_split=0.2\n",
    ")\n",
    "\n",
    "\n",
    "train_ds = train_datagen.flow_from_directory(\n",
    "    \"/kaggle/input/leaf-disease-dataset-combination/image data/train\",\n",
    "    target_size=(224, 224),\n",
    "    batch_size=32,\n",
    "    class_mode=\"categorical\",\n",
    "    subset=\"training\",  \n",
    "    seed=42,\n",
    "    shuffle=True\n",
    ")\n",
    "\n",
    "\n",
    "val_ds = val_datagen.flow_from_directory(\n",
    "    \"/kaggle/input/leaf-disease-dataset-combination/image data/train\",\n",
    "    target_size=(224, 224),\n",
    "    batch_size=32,\n",
    "    class_mode=\"categorical\",\n",
    "    subset=\"validation\",  \n",
    "    seed=42\n",
    ")\n"
   ]
  },
  {
   "cell_type": "code",
   "execution_count": 9,
   "metadata": {
    "execution": {
     "iopub.execute_input": "2025-07-19T16:12:38.689889Z",
     "iopub.status.busy": "2025-07-19T16:12:38.689366Z",
     "iopub.status.idle": "2025-07-19T16:12:40.680003Z",
     "shell.execute_reply": "2025-07-19T16:12:40.679441Z",
     "shell.execute_reply.started": "2025-07-19T16:12:38.689867Z"
    },
    "trusted": true
   },
   "outputs": [
    {
     "name": "stderr",
     "output_type": "stream",
     "text": [
      "I0000 00:00:1752941559.484100      36 gpu_device.cc:2022] Created device /job:localhost/replica:0/task:0/device:GPU:0 with 15513 MB memory:  -> device: 0, name: Tesla P100-PCIE-16GB, pci bus id: 0000:00:04.0, compute capability: 6.0\n"
     ]
    }
   ],
   "source": [
    "from tensorflow.keras.models import Sequential\n",
    "from tensorflow.keras.layers import Conv2D , MaxPooling2D ,Dense , Flatten , Dropout  \n",
    "\n",
    "model = Sequential ([\n",
    "    Conv2D(64 , (3,3) , activation='relu' , input_shape=(224,224,3)) , \n",
    "    MaxPooling2D(2,2) , \n",
    "    Conv2D(128 , (3,3) , activation='relu' ) ,\n",
    "    MaxPooling2D(2,2) , \n",
    "    Conv2D (256 ,(3,3) ,  activation='relu') ,\n",
    "    MaxPooling2D(2,2) ,\n",
    "    Conv2D (400 ,(3,3) ,  activation='relu') ,\n",
    "    MaxPooling2D(2,2) ,\n",
    "\n",
    "    Flatten () , \n",
    "    \n",
    "    Dense(512 , activation='relu'),\n",
    "    Dropout(0.5),\n",
    "    Dense(13 , activation=\"softmax\")\n",
    "    \n",
    "    \n",
    "])"
   ]
  },
  {
   "cell_type": "code",
   "execution_count": 10,
   "metadata": {
    "execution": {
     "iopub.execute_input": "2025-07-19T16:12:43.738949Z",
     "iopub.status.busy": "2025-07-19T16:12:43.738404Z",
     "iopub.status.idle": "2025-07-19T16:12:43.767687Z",
     "shell.execute_reply": "2025-07-19T16:12:43.767152Z",
     "shell.execute_reply.started": "2025-07-19T16:12:43.738925Z"
    },
    "trusted": true
   },
   "outputs": [
    {
     "data": {
      "text/html": [
       "<pre style=\"white-space:pre;overflow-x:auto;line-height:normal;font-family:Menlo,'DejaVu Sans Mono',consolas,'Courier New',monospace\"><span style=\"font-weight: bold\">Model: \"sequential\"</span>\n",
       "</pre>\n"
      ],
      "text/plain": [
       "\u001b[1mModel: \"sequential\"\u001b[0m\n"
      ]
     },
     "metadata": {},
     "output_type": "display_data"
    },
    {
     "data": {
      "text/html": [
       "<pre style=\"white-space:pre;overflow-x:auto;line-height:normal;font-family:Menlo,'DejaVu Sans Mono',consolas,'Courier New',monospace\">┏━━━━━━━━━━━━━━━━━━━━━━━━━━━━━━━━━┳━━━━━━━━━━━━━━━━━━━━━━━━┳━━━━━━━━━━━━━━━┓\n",
       "┃<span style=\"font-weight: bold\"> Layer (type)                    </span>┃<span style=\"font-weight: bold\"> Output Shape           </span>┃<span style=\"font-weight: bold\">       Param # </span>┃\n",
       "┡━━━━━━━━━━━━━━━━━━━━━━━━━━━━━━━━━╇━━━━━━━━━━━━━━━━━━━━━━━━╇━━━━━━━━━━━━━━━┩\n",
       "│ conv2d (<span style=\"color: #0087ff; text-decoration-color: #0087ff\">Conv2D</span>)                 │ (<span style=\"color: #00d7ff; text-decoration-color: #00d7ff\">None</span>, <span style=\"color: #00af00; text-decoration-color: #00af00\">222</span>, <span style=\"color: #00af00; text-decoration-color: #00af00\">222</span>, <span style=\"color: #00af00; text-decoration-color: #00af00\">64</span>)   │         <span style=\"color: #00af00; text-decoration-color: #00af00\">1,792</span> │\n",
       "├─────────────────────────────────┼────────────────────────┼───────────────┤\n",
       "│ max_pooling2d (<span style=\"color: #0087ff; text-decoration-color: #0087ff\">MaxPooling2D</span>)    │ (<span style=\"color: #00d7ff; text-decoration-color: #00d7ff\">None</span>, <span style=\"color: #00af00; text-decoration-color: #00af00\">111</span>, <span style=\"color: #00af00; text-decoration-color: #00af00\">111</span>, <span style=\"color: #00af00; text-decoration-color: #00af00\">64</span>)   │             <span style=\"color: #00af00; text-decoration-color: #00af00\">0</span> │\n",
       "├─────────────────────────────────┼────────────────────────┼───────────────┤\n",
       "│ conv2d_1 (<span style=\"color: #0087ff; text-decoration-color: #0087ff\">Conv2D</span>)               │ (<span style=\"color: #00d7ff; text-decoration-color: #00d7ff\">None</span>, <span style=\"color: #00af00; text-decoration-color: #00af00\">109</span>, <span style=\"color: #00af00; text-decoration-color: #00af00\">109</span>, <span style=\"color: #00af00; text-decoration-color: #00af00\">128</span>)  │        <span style=\"color: #00af00; text-decoration-color: #00af00\">73,856</span> │\n",
       "├─────────────────────────────────┼────────────────────────┼───────────────┤\n",
       "│ max_pooling2d_1 (<span style=\"color: #0087ff; text-decoration-color: #0087ff\">MaxPooling2D</span>)  │ (<span style=\"color: #00d7ff; text-decoration-color: #00d7ff\">None</span>, <span style=\"color: #00af00; text-decoration-color: #00af00\">54</span>, <span style=\"color: #00af00; text-decoration-color: #00af00\">54</span>, <span style=\"color: #00af00; text-decoration-color: #00af00\">128</span>)    │             <span style=\"color: #00af00; text-decoration-color: #00af00\">0</span> │\n",
       "├─────────────────────────────────┼────────────────────────┼───────────────┤\n",
       "│ conv2d_2 (<span style=\"color: #0087ff; text-decoration-color: #0087ff\">Conv2D</span>)               │ (<span style=\"color: #00d7ff; text-decoration-color: #00d7ff\">None</span>, <span style=\"color: #00af00; text-decoration-color: #00af00\">52</span>, <span style=\"color: #00af00; text-decoration-color: #00af00\">52</span>, <span style=\"color: #00af00; text-decoration-color: #00af00\">256</span>)    │       <span style=\"color: #00af00; text-decoration-color: #00af00\">295,168</span> │\n",
       "├─────────────────────────────────┼────────────────────────┼───────────────┤\n",
       "│ max_pooling2d_2 (<span style=\"color: #0087ff; text-decoration-color: #0087ff\">MaxPooling2D</span>)  │ (<span style=\"color: #00d7ff; text-decoration-color: #00d7ff\">None</span>, <span style=\"color: #00af00; text-decoration-color: #00af00\">26</span>, <span style=\"color: #00af00; text-decoration-color: #00af00\">26</span>, <span style=\"color: #00af00; text-decoration-color: #00af00\">256</span>)    │             <span style=\"color: #00af00; text-decoration-color: #00af00\">0</span> │\n",
       "├─────────────────────────────────┼────────────────────────┼───────────────┤\n",
       "│ conv2d_3 (<span style=\"color: #0087ff; text-decoration-color: #0087ff\">Conv2D</span>)               │ (<span style=\"color: #00d7ff; text-decoration-color: #00d7ff\">None</span>, <span style=\"color: #00af00; text-decoration-color: #00af00\">24</span>, <span style=\"color: #00af00; text-decoration-color: #00af00\">24</span>, <span style=\"color: #00af00; text-decoration-color: #00af00\">400</span>)    │       <span style=\"color: #00af00; text-decoration-color: #00af00\">922,000</span> │\n",
       "├─────────────────────────────────┼────────────────────────┼───────────────┤\n",
       "│ max_pooling2d_3 (<span style=\"color: #0087ff; text-decoration-color: #0087ff\">MaxPooling2D</span>)  │ (<span style=\"color: #00d7ff; text-decoration-color: #00d7ff\">None</span>, <span style=\"color: #00af00; text-decoration-color: #00af00\">12</span>, <span style=\"color: #00af00; text-decoration-color: #00af00\">12</span>, <span style=\"color: #00af00; text-decoration-color: #00af00\">400</span>)    │             <span style=\"color: #00af00; text-decoration-color: #00af00\">0</span> │\n",
       "├─────────────────────────────────┼────────────────────────┼───────────────┤\n",
       "│ flatten (<span style=\"color: #0087ff; text-decoration-color: #0087ff\">Flatten</span>)               │ (<span style=\"color: #00d7ff; text-decoration-color: #00d7ff\">None</span>, <span style=\"color: #00af00; text-decoration-color: #00af00\">57600</span>)          │             <span style=\"color: #00af00; text-decoration-color: #00af00\">0</span> │\n",
       "├─────────────────────────────────┼────────────────────────┼───────────────┤\n",
       "│ dense (<span style=\"color: #0087ff; text-decoration-color: #0087ff\">Dense</span>)                   │ (<span style=\"color: #00d7ff; text-decoration-color: #00d7ff\">None</span>, <span style=\"color: #00af00; text-decoration-color: #00af00\">512</span>)            │    <span style=\"color: #00af00; text-decoration-color: #00af00\">29,491,712</span> │\n",
       "├─────────────────────────────────┼────────────────────────┼───────────────┤\n",
       "│ dropout (<span style=\"color: #0087ff; text-decoration-color: #0087ff\">Dropout</span>)               │ (<span style=\"color: #00d7ff; text-decoration-color: #00d7ff\">None</span>, <span style=\"color: #00af00; text-decoration-color: #00af00\">512</span>)            │             <span style=\"color: #00af00; text-decoration-color: #00af00\">0</span> │\n",
       "├─────────────────────────────────┼────────────────────────┼───────────────┤\n",
       "│ dense_1 (<span style=\"color: #0087ff; text-decoration-color: #0087ff\">Dense</span>)                 │ (<span style=\"color: #00d7ff; text-decoration-color: #00d7ff\">None</span>, <span style=\"color: #00af00; text-decoration-color: #00af00\">13</span>)             │         <span style=\"color: #00af00; text-decoration-color: #00af00\">6,669</span> │\n",
       "└─────────────────────────────────┴────────────────────────┴───────────────┘\n",
       "</pre>\n"
      ],
      "text/plain": [
       "┏━━━━━━━━━━━━━━━━━━━━━━━━━━━━━━━━━┳━━━━━━━━━━━━━━━━━━━━━━━━┳━━━━━━━━━━━━━━━┓\n",
       "┃\u001b[1m \u001b[0m\u001b[1mLayer (type)                   \u001b[0m\u001b[1m \u001b[0m┃\u001b[1m \u001b[0m\u001b[1mOutput Shape          \u001b[0m\u001b[1m \u001b[0m┃\u001b[1m \u001b[0m\u001b[1m      Param #\u001b[0m\u001b[1m \u001b[0m┃\n",
       "┡━━━━━━━━━━━━━━━━━━━━━━━━━━━━━━━━━╇━━━━━━━━━━━━━━━━━━━━━━━━╇━━━━━━━━━━━━━━━┩\n",
       "│ conv2d (\u001b[38;5;33mConv2D\u001b[0m)                 │ (\u001b[38;5;45mNone\u001b[0m, \u001b[38;5;34m222\u001b[0m, \u001b[38;5;34m222\u001b[0m, \u001b[38;5;34m64\u001b[0m)   │         \u001b[38;5;34m1,792\u001b[0m │\n",
       "├─────────────────────────────────┼────────────────────────┼───────────────┤\n",
       "│ max_pooling2d (\u001b[38;5;33mMaxPooling2D\u001b[0m)    │ (\u001b[38;5;45mNone\u001b[0m, \u001b[38;5;34m111\u001b[0m, \u001b[38;5;34m111\u001b[0m, \u001b[38;5;34m64\u001b[0m)   │             \u001b[38;5;34m0\u001b[0m │\n",
       "├─────────────────────────────────┼────────────────────────┼───────────────┤\n",
       "│ conv2d_1 (\u001b[38;5;33mConv2D\u001b[0m)               │ (\u001b[38;5;45mNone\u001b[0m, \u001b[38;5;34m109\u001b[0m, \u001b[38;5;34m109\u001b[0m, \u001b[38;5;34m128\u001b[0m)  │        \u001b[38;5;34m73,856\u001b[0m │\n",
       "├─────────────────────────────────┼────────────────────────┼───────────────┤\n",
       "│ max_pooling2d_1 (\u001b[38;5;33mMaxPooling2D\u001b[0m)  │ (\u001b[38;5;45mNone\u001b[0m, \u001b[38;5;34m54\u001b[0m, \u001b[38;5;34m54\u001b[0m, \u001b[38;5;34m128\u001b[0m)    │             \u001b[38;5;34m0\u001b[0m │\n",
       "├─────────────────────────────────┼────────────────────────┼───────────────┤\n",
       "│ conv2d_2 (\u001b[38;5;33mConv2D\u001b[0m)               │ (\u001b[38;5;45mNone\u001b[0m, \u001b[38;5;34m52\u001b[0m, \u001b[38;5;34m52\u001b[0m, \u001b[38;5;34m256\u001b[0m)    │       \u001b[38;5;34m295,168\u001b[0m │\n",
       "├─────────────────────────────────┼────────────────────────┼───────────────┤\n",
       "│ max_pooling2d_2 (\u001b[38;5;33mMaxPooling2D\u001b[0m)  │ (\u001b[38;5;45mNone\u001b[0m, \u001b[38;5;34m26\u001b[0m, \u001b[38;5;34m26\u001b[0m, \u001b[38;5;34m256\u001b[0m)    │             \u001b[38;5;34m0\u001b[0m │\n",
       "├─────────────────────────────────┼────────────────────────┼───────────────┤\n",
       "│ conv2d_3 (\u001b[38;5;33mConv2D\u001b[0m)               │ (\u001b[38;5;45mNone\u001b[0m, \u001b[38;5;34m24\u001b[0m, \u001b[38;5;34m24\u001b[0m, \u001b[38;5;34m400\u001b[0m)    │       \u001b[38;5;34m922,000\u001b[0m │\n",
       "├─────────────────────────────────┼────────────────────────┼───────────────┤\n",
       "│ max_pooling2d_3 (\u001b[38;5;33mMaxPooling2D\u001b[0m)  │ (\u001b[38;5;45mNone\u001b[0m, \u001b[38;5;34m12\u001b[0m, \u001b[38;5;34m12\u001b[0m, \u001b[38;5;34m400\u001b[0m)    │             \u001b[38;5;34m0\u001b[0m │\n",
       "├─────────────────────────────────┼────────────────────────┼───────────────┤\n",
       "│ flatten (\u001b[38;5;33mFlatten\u001b[0m)               │ (\u001b[38;5;45mNone\u001b[0m, \u001b[38;5;34m57600\u001b[0m)          │             \u001b[38;5;34m0\u001b[0m │\n",
       "├─────────────────────────────────┼────────────────────────┼───────────────┤\n",
       "│ dense (\u001b[38;5;33mDense\u001b[0m)                   │ (\u001b[38;5;45mNone\u001b[0m, \u001b[38;5;34m512\u001b[0m)            │    \u001b[38;5;34m29,491,712\u001b[0m │\n",
       "├─────────────────────────────────┼────────────────────────┼───────────────┤\n",
       "│ dropout (\u001b[38;5;33mDropout\u001b[0m)               │ (\u001b[38;5;45mNone\u001b[0m, \u001b[38;5;34m512\u001b[0m)            │             \u001b[38;5;34m0\u001b[0m │\n",
       "├─────────────────────────────────┼────────────────────────┼───────────────┤\n",
       "│ dense_1 (\u001b[38;5;33mDense\u001b[0m)                 │ (\u001b[38;5;45mNone\u001b[0m, \u001b[38;5;34m13\u001b[0m)             │         \u001b[38;5;34m6,669\u001b[0m │\n",
       "└─────────────────────────────────┴────────────────────────┴───────────────┘\n"
      ]
     },
     "metadata": {},
     "output_type": "display_data"
    },
    {
     "data": {
      "text/html": [
       "<pre style=\"white-space:pre;overflow-x:auto;line-height:normal;font-family:Menlo,'DejaVu Sans Mono',consolas,'Courier New',monospace\"><span style=\"font-weight: bold\"> Total params: </span><span style=\"color: #00af00; text-decoration-color: #00af00\">30,791,197</span> (117.46 MB)\n",
       "</pre>\n"
      ],
      "text/plain": [
       "\u001b[1m Total params: \u001b[0m\u001b[38;5;34m30,791,197\u001b[0m (117.46 MB)\n"
      ]
     },
     "metadata": {},
     "output_type": "display_data"
    },
    {
     "data": {
      "text/html": [
       "<pre style=\"white-space:pre;overflow-x:auto;line-height:normal;font-family:Menlo,'DejaVu Sans Mono',consolas,'Courier New',monospace\"><span style=\"font-weight: bold\"> Trainable params: </span><span style=\"color: #00af00; text-decoration-color: #00af00\">30,791,197</span> (117.46 MB)\n",
       "</pre>\n"
      ],
      "text/plain": [
       "\u001b[1m Trainable params: \u001b[0m\u001b[38;5;34m30,791,197\u001b[0m (117.46 MB)\n"
      ]
     },
     "metadata": {},
     "output_type": "display_data"
    },
    {
     "data": {
      "text/html": [
       "<pre style=\"white-space:pre;overflow-x:auto;line-height:normal;font-family:Menlo,'DejaVu Sans Mono',consolas,'Courier New',monospace\"><span style=\"font-weight: bold\"> Non-trainable params: </span><span style=\"color: #00af00; text-decoration-color: #00af00\">0</span> (0.00 B)\n",
       "</pre>\n"
      ],
      "text/plain": [
       "\u001b[1m Non-trainable params: \u001b[0m\u001b[38;5;34m0\u001b[0m (0.00 B)\n"
      ]
     },
     "metadata": {},
     "output_type": "display_data"
    }
   ],
   "source": [
    "model.compile (optimizer = \"adam\" , \n",
    "               loss = \"categorical_crossentropy\" , \n",
    "                metrics=['accuracy']\n",
    "               \n",
    ")\n",
    "model.summary()"
   ]
  },
  {
   "cell_type": "code",
   "execution_count": null,
   "metadata": {
    "execution": {
     "iopub.execute_input": "2025-07-19T16:13:42.191697Z",
     "iopub.status.busy": "2025-07-19T16:13:42.191027Z",
     "iopub.status.idle": "2025-07-19T17:13:56.861702Z",
     "shell.execute_reply": "2025-07-19T17:13:56.861079Z",
     "shell.execute_reply.started": "2025-07-19T16:13:42.191665Z"
    },
    "trusted": true
   },
   "outputs": [
    {
     "name": "stdout",
     "output_type": "stream",
     "text": [
      "Epoch 1/10\n",
      "\u001b[1m953/953\u001b[0m \u001b[32m━━━━━━━━━━━━━━━━━━━━\u001b[0m\u001b[37m\u001b[0m \u001b[1m438s\u001b[0m 460ms/step - accuracy: 0.5004 - loss: 1.6106 - val_accuracy: 0.6075 - val_loss: 1.2112\n",
      "Epoch 2/10\n",
      "\u001b[1m953/953\u001b[0m \u001b[32m━━━━━━━━━━━━━━━━━━━━\u001b[0m\u001b[37m\u001b[0m \u001b[1m345s\u001b[0m 362ms/step - accuracy: 0.7414 - loss: 0.7835 - val_accuracy: 0.7162 - val_loss: 0.8446\n",
      "Epoch 3/10\n",
      "\u001b[1m953/953\u001b[0m \u001b[32m━━━━━━━━━━━━━━━━━━━━\u001b[0m\u001b[37m\u001b[0m \u001b[1m345s\u001b[0m 362ms/step - accuracy: 0.8331 - loss: 0.5042 - val_accuracy: 0.7673 - val_loss: 0.7325\n",
      "Epoch 4/10\n",
      "\u001b[1m953/953\u001b[0m \u001b[32m━━━━━━━━━━━━━━━━━━━━\u001b[0m\u001b[37m\u001b[0m \u001b[1m362s\u001b[0m 380ms/step - accuracy: 0.8778 - loss: 0.3747 - val_accuracy: 0.7966 - val_loss: 0.5979\n",
      "Epoch 5/10\n",
      "\u001b[1m953/953\u001b[0m \u001b[32m━━━━━━━━━━━━━━━━━━━━\u001b[0m\u001b[37m\u001b[0m \u001b[1m354s\u001b[0m 372ms/step - accuracy: 0.9003 - loss: 0.3097 - val_accuracy: 0.8038 - val_loss: 0.6481\n",
      "Epoch 6/10\n",
      "\u001b[1m953/953\u001b[0m \u001b[32m━━━━━━━━━━━━━━━━━━━━\u001b[0m\u001b[37m\u001b[0m \u001b[1m353s\u001b[0m 371ms/step - accuracy: 0.9140 - loss: 0.2734 - val_accuracy: 0.8038 - val_loss: 0.6113\n",
      "Epoch 7/10\n",
      "\u001b[1m953/953\u001b[0m \u001b[32m━━━━━━━━━━━━━━━━━━━━\u001b[0m\u001b[37m\u001b[0m \u001b[1m356s\u001b[0m 374ms/step - accuracy: 0.9245 - loss: 0.2323 - val_accuracy: 0.8685 - val_loss: 0.3904\n",
      "Epoch 8/10\n",
      "\u001b[1m953/953\u001b[0m \u001b[32m━━━━━━━━━━━━━━━━━━━━\u001b[0m\u001b[37m\u001b[0m \u001b[1m353s\u001b[0m 370ms/step - accuracy: 0.9325 - loss: 0.2086 - val_accuracy: 0.8235 - val_loss: 0.5515\n",
      "Epoch 9/10\n",
      "\u001b[1m953/953\u001b[0m \u001b[32m━━━━━━━━━━━━━━━━━━━━\u001b[0m\u001b[37m\u001b[0m \u001b[1m354s\u001b[0m 371ms/step - accuracy: 0.9421 - loss: 0.1834 - val_accuracy: 0.9054 - val_loss: 0.3332\n",
      "Epoch 10/10\n",
      "\u001b[1m953/953\u001b[0m \u001b[32m━━━━━━━━━━━━━━━━━━━━\u001b[0m\u001b[37m\u001b[0m \u001b[1m353s\u001b[0m 370ms/step - accuracy: 0.9472 - loss: 0.1648 - val_accuracy: 0.9108 - val_loss: 0.2853\n"
     ]
    }
   ],
   "source": [
    "from tensorflow.keras.callbacks import  EarlyStopping\n",
    "early_stop = EarlyStopping(monitor='val_loss', patience=5, restore_best_weights=True)\n",
    "\n",
    "history = model.fit(\n",
    "    train_ds,\n",
    "    validation_data=val_ds,\n",
    "    epochs=10,batch_size=32,\n",
    "    callbacks=[early_stop]\n",
    ")"
   ]
  },
  {
   "cell_type": "code",
   "execution_count": 13,
   "metadata": {
    "execution": {
     "iopub.execute_input": "2025-07-19T17:15:41.431325Z",
     "iopub.status.busy": "2025-07-19T17:15:41.430774Z",
     "iopub.status.idle": "2025-07-19T17:21:41.110697Z",
     "shell.execute_reply": "2025-07-19T17:21:41.110079Z",
     "shell.execute_reply.started": "2025-07-19T17:15:41.431302Z"
    },
    "trusted": true
   },
   "outputs": [
    {
     "name": "stdout",
     "output_type": "stream",
     "text": [
      "\u001b[1m953/953\u001b[0m \u001b[32m━━━━━━━━━━━━━━━━━━━━\u001b[0m\u001b[37m\u001b[0m \u001b[1m340s\u001b[0m 357ms/step - accuracy: 0.9545 - loss: 0.1392\n",
      "the train accuracy:95.59%\n",
      "\u001b[1m238/238\u001b[0m \u001b[32m━━━━━━━━━━━━━━━━━━━━\u001b[0m\u001b[37m\u001b[0m \u001b[1m18s\u001b[0m 77ms/step - accuracy: 0.9138 - loss: 0.2816\n",
      "the val_accuracy : 91.08%\n"
     ]
    }
   ],
   "source": [
    "train_loss , train_acc = model.evaluate(train_ds) \n",
    "print(f\"the train accuracy:{train_acc * 100:.2f}%\") \n",
    "val_loss , val_acc = model.evaluate(val_ds) \n",
    "print(f\"the val_accuracy : { val_acc*100:.2f}%\") \n"
   ]
  },
  {
   "cell_type": "code",
   "execution_count": 17,
   "metadata": {
    "execution": {
     "iopub.execute_input": "2025-07-19T17:26:08.767740Z",
     "iopub.status.busy": "2025-07-19T17:26:08.767470Z",
     "iopub.status.idle": "2025-07-19T17:26:09.053741Z",
     "shell.execute_reply": "2025-07-19T17:26:09.053064Z",
     "shell.execute_reply.started": "2025-07-19T17:26:08.767722Z"
    },
    "trusted": true
   },
   "outputs": [
    {
     "data": {
      "image/png": "[encoded data removed]",
      "text/plain": [
       "<Figure size 1200x500 with 2 Axes>"
      ]
     },
     "metadata": {},
     "output_type": "display_data"
    }
   ],
   "source": [
    "import matplotlib.pyplot as plt\n",
    "\n",
    "\n",
    "acc = history.history['accuracy']\n",
    "val_acc = history.history['val_accuracy']\n",
    "loss = history.history['loss']\n",
    "val_loss = history.history['val_loss']\n",
    "\n",
    "epochs_range = range(len(acc))\n",
    "\n",
    "\n",
    "plt.figure(figsize=(12, 5))\n",
    "plt.subplot(1, 2, 1)\n",
    "plt.plot(epochs_range, acc, label=\"Train Accuracy\")\n",
    "plt.plot(epochs_range, val_acc, label=\"Val Accuracy\")\n",
    "plt.legend()\n",
    "plt.title(\"Accuracy Over Epochs\")\n",
    "\n",
    "\n",
    "plt.subplot(1, 2, 2)\n",
    "plt.plot(epochs_range, loss, label=\"Train Loss\")\n",
    "plt.plot(epochs_range, val_loss, label=\"Val Loss\")\n",
    "plt.legend()\n",
    "plt.title(\"Loss Over Epochs\")\n",
    "\n",
    "plt.show()\n"
   ]
  },
  {
   "cell_type": "code",
   "execution_count": null,
   "metadata": {
    "trusted": true
   },
   "outputs": [],
   "source": [
    "y_true = [] \n",
    "y_pred = [] \n",
    "for images , labels in val_ds : \n",
    "    pred = model.predict(images) \n",
    "    y_pred.extend(np.argmax(pred , axis=1))\n",
    "    y_true.extend(np.argmax(labels , axis=1)) \n",
    "\n",
    "\n",
    "y_true = np.argmax(y_true) \n",
    "y_pred = np.argmax(y_pred)"
   ]
  },
  {
   "cell_type": "code",
   "execution_count": null,
   "metadata": {
    "execution": {
     "iopub.status.busy": "2025-07-18T18:27:24.017687Z",
     "iopub.status.idle": "2025-07-18T18:27:24.018046Z",
     "shell.execute_reply": "2025-07-18T18:27:24.017879Z",
     "shell.execute_reply.started": "2025-07-18T18:27:24.017864Z"
    },
    "trusted": true
   },
   "outputs": [],
   "source": [
    "from sklearn.metrics import classification_report\n",
    "class_name  = list(val_ds.class_indices_key())\n",
    "\n",
    "print(classification_report(y_true , y_pred , target_name = class_name))"
   ]
  },
  {
   "cell_type": "code",
   "execution_count": null,
   "metadata": {
    "trusted": true
   },
   "outputs": [],
   "source": [
    "import matplotlib.pyplot as plt\n",
    "\n",
    "images, labels = next(iter(val_ds))\n",
    "\n",
    "num_images = 9\n",
    "\n",
    "plt.figure(figsize=(12, 12))\n",
    "for i in range(num_images):\n",
    "    plt.subplot(3, 3, i + 1)\n",
    "    plt.imshow(images[i])\n",
    "    plt.title(f\"Class: {np.argmax(labels[i])}\")\n",
    "    plt.axis('off')\n",
    "plt.tight_layout()\n",
    "plt.show()\n",
    "\n"
   ]
  },
  {
   "cell_type": "code",
   "execution_count": 20,
   "metadata": {
    "execution": {
     "iopub.execute_input": "2025-07-19T18:45:00.618899Z",
     "iopub.status.busy": "2025-07-19T18:45:00.618623Z",
     "iopub.status.idle": "2025-07-19T18:45:01.563866Z",
     "shell.execute_reply": "2025-07-19T18:45:01.563056Z",
     "shell.execute_reply.started": "2025-07-19T18:45:00.618878Z"
    },
    "trusted": true
   },
   "outputs": [],
   "source": [
    "model.save(\"Leaf Disease.h5\")"
   ]
  },
  {
   "cell_type": "code",
   "execution_count": null,
   "metadata": {
    "trusted": true
   },
   "outputs": [],
   "source": []
  }
 ],
 "metadata": {
  "kaggle": {
   "accelerator": "gpu",
   "dataSources": [
    {
     "datasetId": 1851550,
     "sourceId": 3023132,
     "sourceType": "datasetVersion"
    }
   ],
   "dockerImageVersionId": 31090,
   "isGpuEnabled": true,
   "isInternetEnabled": true,
   "language": "python",
   "sourceType": "notebook"
  },
  "kernelspec": {
   "display_name": "tfenv",
   "language": "python",
   "name": "python3"
  },
  "language_info": {
   "codemirror_mode": {
    "name": "ipython",
    "version": 3
   },
   "file_extension": ".py",
   "mimetype": "text/x-python",
   "name": "python",
   "nbconvert_exporter": "python",
   "pygments_lexer": "ipython3",
   "version": "3.10.18"
  }
 },
 "nbformat": 4,
 "nbformat_minor": 4
}
